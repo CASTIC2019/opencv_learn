{
 "cells": [
  {
   "cell_type": "markdown",
   "metadata": {},
   "source": [
    "# 学习使用Autopy和OpenCV完成游戏外挂 "
   ]
  },
  {
   "cell_type": "markdown",
   "metadata": {},
   "source": [
    "## 安装包\n",
    "\n",
    "pip install autopy\n",
    "\n",
    "## autopy文档\n",
    "https://www.autopy.org/documentation/api-reference/#"
   ]
  },
  {
   "cell_type": "markdown",
   "metadata": {},
   "source": [
    "# 测试鼠标移动"
   ]
  },
  {
   "cell_type": "code",
   "execution_count": null,
   "metadata": {},
   "outputs": [],
   "source": [
    "import autopy\n",
    "autopy.mouse.move(100, 100) # 移动鼠标\n",
    "autopy.mouse.smooth_move(400, 400) # 平滑移动鼠标（上面那个是瞬间的）"
   ]
  },
  {
   "cell_type": "markdown",
   "metadata": {},
   "source": [
    "# 测试鼠标点击"
   ]
  },
  {
   "cell_type": "markdown",
   "metadata": {},
   "source": [
    "import autopy\n",
    "import time\n",
    "from autopy.mouse import Button as bt\n",
    "autopy.mouse.move(1000, 200) # 移动鼠标\n",
    "autopy.mouse.smooth_move(1000, 300) # 平滑移动鼠标（上面那个是瞬间的）\n",
    "autopy.mouse.click(bt.LEFT) # 单击\n",
    "autopy.mouse.smooth_move(1000, 200) # 平滑移动鼠标（上面那个是瞬间的）\n",
    "autopy.mouse.toggle(bt.LEFT,True) # 按下左键\n",
    "time.sleep(5)\n",
    "autopy.mouse.smooth_move(1000, 300) # 平滑移动鼠标（上面那个是瞬间的）\n",
    "autopy.mouse.toggle(bt.LEFT,False) # 松开左键\n",
    "print(\"finish test\")"
   ]
  },
  {
   "cell_type": "markdown",
   "metadata": {},
   "source": [
    "# 鼠标点击四个角"
   ]
  },
  {
   "cell_type": "code",
   "execution_count": 17,
   "metadata": {},
   "outputs": [
    {
     "name": "stdout",
     "output_type": "stream",
     "text": [
      "finis\n"
     ]
    }
   ],
   "source": [
    "import autopy\n",
    "import time\n",
    "from autopy.mouse import Button as bt\n",
    "\n",
    "autopy.mouse.smooth_move(1000, 200) # 平滑移动鼠标（上面那个是瞬间的）\n",
    "autopy.mouse.click(bt.LEFT) # 单击\n",
    "time.sleep(1)\n",
    "autopy.mouse.smooth_move(1000, 300) # 平滑移动鼠标（上面那个是瞬间的）\n",
    "autopy.mouse.click(bt.LEFT) # 单击\n",
    "time.sleep(1)\n",
    "autopy.mouse.smooth_move(1100, 300) # 平滑移动鼠标（上面那个是瞬间的）\n",
    "autopy.mouse.click(bt.LEFT) # 单击\n",
    "time.sleep(1)\n",
    "autopy.mouse.smooth_move(1100, 200) # 平滑移动鼠标（上面那个是瞬间的）\n",
    "autopy.mouse.click(bt.LEFT) # 单击\n",
    "time.sleep(1)\n",
    "print(\"finis\")\n",
    "\n",
    "\n",
    "\n"
   ]
  },
  {
   "cell_type": "markdown",
   "metadata": {},
   "source": [
    "# 鼠标连续不断点击四个角"
   ]
  },
  {
   "cell_type": "code",
   "execution_count": null,
   "metadata": {},
   "outputs": [],
   "source": [
    "import autopy\n",
    "import time\n",
    "from autopy.mouse import Button as bt\n",
    "while True\n",
    "    autopy\n",
    "    .mouse.smooth_move(1000, 200) # 平滑移动鼠标\n",
    "    autopy.mouse.click(bt.LEFT) # 单击\n",
    "    time.sleep(1)\n",
    "    autopy.mouse.smooth_move(1000, 300) # 平滑移动鼠标\n",
    "    autopy.mouse.click(bt.LEFT) # 单击\n",
    "    time.sleep(1)\n",
    "    autopy.mouse.smooth_move(1100, 300) # 平滑移动鼠标\n",
    "    autopy.mouse.click(bt.LEFT) # 单击\n",
    "    time.sleep(1)\n",
    "    autopy.mouse.smooth_move(1100, 200) # 平滑移动鼠标\n",
    "    autopy.mouse.click(bt.LEFT) # 单击\n",
    "    time.sleep(1)\n",
    "print(\"finis\")"
   ]
  },
  {
   "cell_type": "code",
   "execution_count": null,
   "metadata": {},
   "outputs": [],
   "source": []
  }
 ],
 "metadata": {
  "kernelspec": {
   "display_name": "Python 3",
   "language": "python",
   "name": "python3"
  },
  "language_info": {
   "codemirror_mode": {
    "name": "ipython",
    "version": 3
   },
   "file_extension": ".py",
   "mimetype": "text/x-python",
   "name": "python",
   "nbconvert_exporter": "python",
   "pygments_lexer": "ipython3",
   "version": "3.6.7"
  }
 },
 "nbformat": 4,
 "nbformat_minor": 2
}
