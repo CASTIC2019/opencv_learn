{
 "cells": [
  {
   "cell_type": "markdown",
   "metadata": {},
   "source": [
    "## 基本语句测试"
   ]
  },
  {
   "cell_type": "code",
   "execution_count": 1,
   "metadata": {},
   "outputs": [
    {
     "name": "stdout",
     "output_type": "stream",
     "text": [
      "hello world\n"
     ]
    }
   ],
   "source": [
    "print(\"hello world\")"
   ]
  },
  {
   "cell_type": "code",
   "execution_count": 2,
   "metadata": {},
   "outputs": [],
   "source": [
    "f=open(\"roof.csv\",\"w\")\n",
    "data=\"1,0,0,0,0,0,0,0,0,0\\n0,0,0,0,0,0,0,0,0,0\\n0,0,0,0,0,0,0,0,0,0\\n0,0,0,0,0,0,0,0,0,0\\n0,0,0,0,0,0,0,0,0,0\\n0,0,0,0,0,0,0,0,0,0\\n0,0,0,0,0,0,0,0,0,0\\n0,0,0,0,0,0,0,0,0,0\\n0,0,0,0,0,0,0,0,0,0\\n0,0,0,0,0,0,0,0,0,0\\n\"\n",
    "f.write(data)\n",
    "f.close()"
   ]
  },
  {
   "cell_type": "code",
   "execution_count": 2,
   "metadata": {},
   "outputs": [
    {
     "name": "stdout",
     "output_type": "stream",
     "text": [
      "hello world 0\n",
      "hello world 1\n",
      "hello world 2\n",
      "hello world 3\n",
      "hello world 4\n",
      "hello world 5\n",
      "hello world 6\n",
      "hello world 7\n",
      "hello world 8\n",
      "hello world 9\n"
     ]
    }
   ],
   "source": [
    "for i in range(10):\n",
    "    print(\"hello world\",i)"
   ]
  },
  {
   "cell_type": "markdown",
   "metadata": {},
   "source": [
    "## 插入一张图"
   ]
  },
  {
   "cell_type": "markdown",
   "metadata": {},
   "source": [
    "![](123.jpg)"
   ]
  },
  {
   "cell_type": "markdown",
   "metadata": {},
   "source": [
    "## 显示一张图，按任意键返回"
   ]
  },
  {
   "cell_type": "code",
   "execution_count": null,
   "metadata": {},
   "outputs": [],
   "source": [
    "import numpy as np\n",
    "import cv2\n",
    "img=cv2.imread(\"123.jpg\")\n",
    "\n",
    "cv2.namedWindow('image', cv2.WINDOW_NORMAL)\n",
    "cv2.imshow(\"image\",img)\n",
    "\n",
    "cv2.waitKey(0)\n",
    "cv2.destroyAllWindows()"
   ]
  },
  {
   "cell_type": "markdown",
   "metadata": {},
   "source": [
    "## 显示一张图，按q键返回,每1000毫秒检测一次"
   ]
  },
  {
   "cell_type": "code",
   "execution_count": 9,
   "metadata": {},
   "outputs": [
    {
     "name": "stdout",
     "output_type": "stream",
     "text": [
      "show\n",
      "show\n",
      "show\n",
      "show\n",
      "show\n"
     ]
    }
   ],
   "source": [
    "import numpy as np\n",
    "import cv2\n",
    "img=cv2.imread(\"123.jpg\",0)\n",
    "\n",
    "while(True):\n",
    "    cv2.namedWindow('image', cv2.WINDOW_NORMAL)\n",
    "    cv2.imshow(\"image\",img)\n",
    "    print(\"show\")\n",
    "    if cv2.waitKey(1000) & 0xFF == ord('q'):\n",
    "         break;\n",
    "\n",
    "cv2.destroyAllWindows()"
   ]
  },
  {
   "cell_type": "markdown",
   "metadata": {},
   "source": [
    "## 抓取摄像头一张图，显示出来，按q键返回,每1000毫秒检测一次\n"
   ]
  },
  {
   "cell_type": "code",
   "execution_count": 10,
   "metadata": {},
   "outputs": [],
   "source": [
    "import numpy as np\n",
    "import cv2\n",
    "cap = cv2.VideoCapture(0)\n",
    "while(True):\n",
    "    ret, frame = cap.read()\n",
    "    cv2.imshow('my_frame',frame)\n",
    "    if cv2.waitKey(1000) & 0xFF == ord('q'):\n",
    "        break\n",
    "        \n",
    "cap.release()\n",
    "cv2.destroyAllWindows()\n"
   ]
  },
  {
   "cell_type": "markdown",
   "metadata": {},
   "source": [
    "#  刘鑫华的代码"
   ]
  },
  {
   "cell_type": "code",
   "execution_count": 1,
   "metadata": {},
   "outputs": [],
   "source": [
    "import numpy as np\n",
    "import cv2\n",
    "cap = cv2.VideoCapture(0)\n",
    "while(True):\n",
    "    ret, frame = cap.read()\n",
    "    cv2.imshow('my_frame',frame)\n",
    "    if cv2.waitKey(1000) & 0xFF == ord('q'):\n",
    "        break\n",
    "        \n",
    "cap.release()\n",
    "cv2.destroyAllWindows()"
   ]
  },
  {
   "cell_type": "markdown",
   "metadata": {},
   "source": [
    "#倪晨阳的代码\n"
   ]
  },
  {
   "cell_type": "code",
   "execution_count": 7,
   "metadata": {},
   "outputs": [
    {
     "ename": "AttributeError",
     "evalue": "module 'cv2.cv2' has no attribute 'destoryAllWindows'",
     "output_type": "error",
     "traceback": [
      "\u001b[1;31m---------------------------------------------------------------------------\u001b[0m",
      "\u001b[1;31mAttributeError\u001b[0m                            Traceback (most recent call last)",
      "\u001b[1;32m<ipython-input-7-57622cfba1ca>\u001b[0m in \u001b[0;36m<module>\u001b[1;34m()\u001b[0m\n\u001b[0;32m      9\u001b[0m \u001b[1;33m\u001b[0m\u001b[0m\n\u001b[0;32m     10\u001b[0m \u001b[0mcap\u001b[0m\u001b[1;33m.\u001b[0m\u001b[0mrelease\u001b[0m\u001b[1;33m(\u001b[0m\u001b[1;33m)\u001b[0m\u001b[1;33m\u001b[0m\u001b[0m\n\u001b[1;32m---> 11\u001b[1;33m \u001b[0mcv2\u001b[0m\u001b[1;33m.\u001b[0m\u001b[0mdestoryAllWindows\u001b[0m\u001b[1;33m(\u001b[0m\u001b[1;33m)\u001b[0m\u001b[1;33m\u001b[0m\u001b[0m\n\u001b[0m",
      "\u001b[1;31mAttributeError\u001b[0m: module 'cv2.cv2' has no attribute 'destoryAllWindows'"
     ]
    }
   ],
   "source": [
    "import numpy as np\n",
    "import cv2\n",
    "cap = cv2.VideoCapture(0)\n",
    "while(True):\n",
    "    ret, frame = cap.read()\n",
    "    cv2.imshow('my_frame',frame)\n",
    "    if cv2.waitKey(1000) & 0xFF == ord('q'):\n",
    "        break\n",
    "\n",
    "cap.release()\n",
    "cv2.destoryAllWindows()"
   ]
  },
  {
   "cell_type": "markdown",
   "metadata": {},
   "source": [
    "#刘彦博的代码"
   ]
  },
  {
   "cell_type": "code",
   "execution_count": 10,
   "metadata": {},
   "outputs": [],
   "source": [
    "import numpy as np\n",
    "import cv2\n",
    "cap = cv2.VideoCapture(0)\n",
    "while(True):\n",
    "    ret, frame = cap.read()\n",
    "    cv2.imshow('my_frame',frame)\n",
    "    if cv2.waitKey(1000) & 0xFF == ord('q'):\n",
    "        break\n",
    "\n",
    "cap.release()\n",
    "cv2.destroyAllWindows()\n"
   ]
  },
  {
   "cell_type": "markdown",
   "metadata": {},
   "source": [
    "# 朱传义"
   ]
  },
  {
   "cell_type": "code",
   "execution_count": 23,
   "metadata": {},
   "outputs": [],
   "source": [
    "import numpy as np\n",
    "import cv2\n",
    "cap = cv2.VideoCapture(0)\n",
    "while(True):\n",
    "    ret,frame = cap.read()\n",
    "    cv2.imshow('my_frame',frame)\n",
    "    if cv2.waitKey(1000) & 0xFF == ord('q'):\n",
    "        break\n",
    "\n",
    "cap.release()\n",
    "cv2.destroyAllWindows()\n"
   ]
  },
  {
   "cell_type": "markdown",
   "metadata": {},
   "source": [
    "## 在视频左上角添加一个矩形白框,框的粗细为3个像素"
   ]
  },
  {
   "cell_type": "code",
   "execution_count": null,
   "metadata": {},
   "outputs": [],
   "source": [
    "import numpy as np\n",
    "import cv2\n",
    "cap = cv2.VideoCapture(0)\n",
    "while(True):\n",
    "    ret, frame = cap.read()\n",
    "    cv2.rectangle(frame,(0,0),(100,100),(255,128,255),5)\n",
    "    print(len(frame))\n",
    "    print(len(frame[0]))\n",
    "    cv2.imshow('my_frame',frame)\n",
    "    if cv2.waitKey(1000) & 0xFF == ord('q'):\n",
    "        break\n",
    "cap.release()\n",
    "cv2.destroyAllWindows()"
   ]
  },
  {
   "cell_type": "markdown",
   "metadata": {},
   "source": [
    "## 在视频正中间画一个正方形的绿框,用len获得长宽"
   ]
  },
  {
   "cell_type": "code",
   "execution_count": 22,
   "metadata": {},
   "outputs": [
    {
     "name": "stdout",
     "output_type": "stream",
     "text": [
      "lenth 640 witdth 480\n",
      "lenth 640 witdth 480\n"
     ]
    }
   ],
   "source": [
    "import numpy as np\n",
    "import cv2\n",
    "cap = cv2.VideoCapture(0)\n",
    "while(True):\n",
    "    ret, frame = cap.read()\n",
    "    lenth=int(len(frame[0]))\n",
    "    width=int(len(frame))\n",
    "    print(\"lenth\",lenth,\"witdth\",width)\n",
    "    cv2.rectangle(frame,(int(lenth/2-50),int(width/2-50)),(int(lenth/2+50),int(width/2+50)),(25,128,25),5)\n",
    "    cv2.imshow('frame',frame)\n",
    "    if cv2.waitKey(1000) & 0xFF == ord('q'):\n",
    "        break\n",
    "        \n",
    "cap.release()\n",
    "cv2.destroyAllWindows()"
   ]
  },
  {
   "cell_type": "markdown",
   "metadata": {},
   "source": [
    "## 双击鼠标左键，在中心点画一个圆 ,再次双击消失"
   ]
  },
  {
   "cell_type": "code",
   "execution_count": 16,
   "metadata": {},
   "outputs": [
    {
     "name": "stdout",
     "output_type": "stream",
     "text": [
      "['EVENT_FLAG_ALTKEY', 'EVENT_FLAG_CTRLKEY', 'EVENT_FLAG_LBUTTON', 'EVENT_FLAG_MBUTTON', 'EVENT_FLAG_RBUTTON', 'EVENT_FLAG_SHIFTKEY', 'EVENT_LBUTTONDBLCLK', 'EVENT_LBUTTONDOWN', 'EVENT_LBUTTONUP', 'EVENT_MBUTTONDBLCLK', 'EVENT_MBUTTONDOWN', 'EVENT_MBUTTONUP', 'EVENT_MOUSEHWHEEL', 'EVENT_MOUSEMOVE', 'EVENT_MOUSEWHEEL', 'EVENT_RBUTTONDBLCLK', 'EVENT_RBUTTONDOWN', 'EVENT_RBUTTONUP']\n"
     ]
    }
   ],
   "source": [
    "import numpy as np\n",
    "import cv2\n",
    "import time\n",
    "cap = cv2.VideoCapture(0)\n",
    "\n",
    "#显示所有事件\n",
    "events=[i for i in dir(cv2) if 'EVENT'in i]\n",
    "print(events)\n",
    "\n",
    "havedoubleclick=0\n",
    "\n",
    "def draw_circle(event,x,y,flags,param):\n",
    "    global havedoubleclick\n",
    "    if event==cv2.EVENT_LBUTTONDBLCLK:\n",
    "        havedoubleclick+=1\n",
    "#       print(\"get double click\")\n",
    "        \n",
    "ret, frame = cap.read()\n",
    "# 创建图像与窗口并将窗口与回调函数绑定\n",
    "cv2.namedWindow('frame')\n",
    "cv2.setMouseCallback('frame',draw_circle)\n",
    "\n",
    "while(True):\n",
    "    ret, frame = cap.read()\n",
    "    lenth=int(len(frame[0]))\n",
    "    width=int(len(frame))\n",
    "    cv2.rectangle(frame,(int(lenth/2-50),int(width/2-50)),(int(lenth/2+50),int(width/2+50)),(25,128,25),5)\n",
    "    if havedoubleclick %2 == 0:\n",
    "        cv2.circle(frame,(int(lenth/2),int(width/2)),100,(255,0,0),-1)        \n",
    "    cv2.imshow('frame',frame)\n",
    "    if cv2.waitKey(1000) & 0xFF == ord('q'):\n",
    "        break\n",
    "        \n",
    "cap.release()\n",
    "cv2.destroyAllWindows()"
   ]
  },
  {
   "cell_type": "markdown",
   "metadata": {},
   "source": [
    "# 在图像中截取一个矩形，在另一个窗口显示，保存到另一个文件"
   ]
  },
  {
   "cell_type": "code",
   "execution_count": 5,
   "metadata": {},
   "outputs": [],
   "source": [
    "import numpy as np\n",
    "import cv2\n",
    "img=cv2.imread(\"123.jpg\")\n",
    "\n",
    "cv2.namedWindow('image', cv2.WINDOW_NORMAL)\n",
    "cv2.imshow(\"image\",img)\n",
    "\n",
    "cropImg=img[300:400,0:100]\n",
    "cv2.namedWindow('imagecrop', cv2.WINDOW_NORMAL)\n",
    "cv2.imshow(\"imagecrop\",cropImg)\n",
    "\n",
    "cv2.imwrite(\"crop.jpg\",cropImg) \n",
    "\n",
    "cv2.waitKey(0)\n",
    "cv2.destroyAllWindows()"
   ]
  },
  {
   "cell_type": "markdown",
   "metadata": {},
   "source": [
    "# 将一个图像保存为10x10个小图像"
   ]
  },
  {
   "cell_type": "code",
   "execution_count": 3,
   "metadata": {},
   "outputs": [
    {
     "name": "stdout",
     "output_type": "stream",
     "text": [
      "lenth 599\n",
      "width 1027\n",
      "L 59 W 102\n"
     ]
    }
   ],
   "source": [
    "import numpy as np\n",
    "import cv2\n",
    "import time\n",
    "\n",
    "img=cv2.imread(\"123.jpg\")\n",
    "\n",
    "lenth=len(img)\n",
    "width=len(img[0])\n",
    "\n",
    "print(\"lenth\",lenth)\n",
    "print(\"width\",width)\n",
    "\n",
    "L=int(lenth/10)\n",
    "W=int(width/10)\n",
    "\n",
    "for x in range(10):\n",
    "    for y in range(10):\n",
    "        cropImg=img[]\n",
    "\n",
    "print(\"L\",L,\"W\",W)\n",
    "cv2.namedWindow('image', cv2.WINDOW_NORMAL)\n",
    "cv2.imshow(\"image\",img)\n",
    "\n",
    "cropImg=img[300:500,700:1000]\n",
    "\n",
    "cv2.namedWindow('imagecrop', cv2.WINDOW_NORMAL)\n",
    "cv2.imshow(\"imagecrop\",cropImg)\n",
    "\n",
    "\n",
    "cv2.imwrite(\"crop.jpg\",cropImg) \n",
    "\n",
    "cv2.waitKey(0)\n",
    "cv2.destroyAllWindows()"
   ]
  },
  {
   "cell_type": "code",
   "execution_count": null,
   "metadata": {},
   "outputs": [],
   "source": []
  }
 ],
 "metadata": {
  "kernelspec": {
   "display_name": "Python 3",
   "language": "python",
   "name": "python3"
  },
  "language_info": {
   "codemirror_mode": {
    "name": "ipython",
    "version": 3
   },
   "file_extension": ".py",
   "mimetype": "text/x-python",
   "name": "python",
   "nbconvert_exporter": "python",
   "pygments_lexer": "ipython3",
   "version": "3.7.0"
  }
 },
 "nbformat": 4,
 "nbformat_minor": 2
}
