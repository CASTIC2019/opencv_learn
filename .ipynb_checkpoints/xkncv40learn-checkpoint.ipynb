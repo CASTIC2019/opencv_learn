{
 "cells": [
  {
   "cell_type": "markdown",
   "metadata": {},
   "source": [
    "# OpenCV 4.0 安装及升级\n",
    "\n",
    "## 第一次安装OpenCV-Python\n",
    "\n",
    "pip install opencv-python  \n",
    "pip install opencv-contrib-python\n",
    "\n",
    "##  升级安装\n",
    "\n",
    "如果你已经安装了OpenCV以前的3.x版本只需要执行对应的升级安装命令行如下（假设你已经安装opencv-python 3.x）\n",
    "\n",
    "pip install --upgrade opencv-python  \n",
    "pip install --upgrade opencv-contrib-python\n",
    "\n"
   ]
  },
  {
   "cell_type": "markdown",
   "metadata": {},
   "source": [
    "# QR 码识别"
   ]
  },
  {
   "cell_type": "code",
   "execution_count": null,
   "metadata": {},
   "outputs": [],
   "source": [
    "import cv2\n",
    "import numpy as np\n",
    "import sys\n",
    "import time\n",
    "\n",
    "inputImage = cv2.imread(\"qrcode-feature.jpg\")\n",
    "\n",
    "# Display barcode and QR code location\n",
    "def display(im, bbox):\n",
    "    n = len(bbox)\n",
    "    for j in range(n):\n",
    "        cv2.line(im, tuple(bbox[j][0]), tuple(bbox[ (j+1) % n][0]), (255,0,0), 3)\n",
    "    # Display results\n",
    "    cv2.imshow(\"Results\", im)\n",
    "\n",
    "qrDecoder = cv2.QRCodeDetector()\n",
    " \n",
    "# Detect and decode the qrcode\n",
    "data,bbox,rectifiedImage = qrDecoder.detectAndDecode(inputImage)\n",
    "\n",
    "if len(data)>0:\n",
    "    print(\"Decoded Data : {}\".format(data))\n",
    "    display(inputImage, bbox)\n",
    "    rectifiedImage = np.uint8(rectifiedImage);\n",
    "    cv2.imshow(\"Rectified QRCode\", rectifiedImage);\n",
    "else:\n",
    "    print(\"QR Code not detected\")\n",
    "    cv2.imshow(\"Results\", inputImage)\n",
    " \n",
    "cv2.waitKey(0)\n",
    "cv2.destroyAllWindows()"
   ]
  },
  {
   "cell_type": "code",
   "execution_count": null,
   "metadata": {},
   "outputs": [],
   "source": []
  },
  {
   "cell_type": "code",
   "execution_count": null,
   "metadata": {},
   "outputs": [],
   "source": []
  }
 ],
 "metadata": {
  "kernelspec": {
   "display_name": "Python 3",
   "language": "python",
   "name": "python3"
  },
  "language_info": {
   "codemirror_mode": {
    "name": "ipython",
    "version": 3
   },
   "file_extension": ".py",
   "mimetype": "text/x-python",
   "name": "python",
   "nbconvert_exporter": "python",
   "pygments_lexer": "ipython3",
   "version": "3.6.7"
  }
 },
 "nbformat": 4,
 "nbformat_minor": 2
}
