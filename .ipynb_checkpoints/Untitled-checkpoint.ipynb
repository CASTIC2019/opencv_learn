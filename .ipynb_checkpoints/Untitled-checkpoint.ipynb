{
 "cells": [
  {
   "cell_type": "markdown",
   "metadata": {},
   "source": [
    "# 用图像匹配的方法找红色 O X 形状"
   ]
  },
  {
   "cell_type": "markdown",
   "metadata": {},
   "source": [
    "![](xohi.jpg)"
   ]
  },
  {
   "cell_type": "markdown",
   "metadata": {},
   "source": [
    "# 先转化图像格式以便识别图像中的正红色"
   ]
  },
  {
   "cell_type": "markdown",
   "metadata": {},
   "source": [
    "## 先读取并显示图像"
   ]
  },
  {
   "cell_type": "code",
   "execution_count": 17,
   "metadata": {},
   "outputs": [],
   "source": [
    "import cv2\n",
    "import numpy as np\n",
    "\n",
    "img=cv2.imread(\"xohi.jpg\")\n",
    "cv2.imshow(\"xo\",img)\n",
    "cv2.waitKey()\n",
    "cv2.destroyAllWindows()"
   ]
  },
  {
   "cell_type": "markdown",
   "metadata": {},
   "source": [
    "## 转为更容易处理颜色的hsv格式，这个格式如果颜色饱和度越高，则数值越大，显示出来越白"
   ]
  },
  {
   "cell_type": "code",
   "execution_count": null,
   "metadata": {},
   "outputs": [],
   "source": [
    "色调H\n",
    "用角度度量，取值范围为0°～360°，从红色开始按逆时针方向计算，红色为0°，绿色为120°,蓝色为240°。它们的补色是：黄色为60°，青色为180°,品红为300°；\n",
    "饱和度S\n",
    "饱和度S表示颜色接近光谱色的程度。一种颜色，可以看成是某种光谱色与白色混合的结果。其中光谱色所占的比例愈大，颜色接近光谱色的程度就愈高，颜色的饱和度也就愈高。饱和度高，颜色则深而艳。光谱色的白光成分为0，饱和度达到最高。通常取值范围为0%～100%，值越大，颜色越饱和。\n",
    "明度V\n",
    "明度表示颜色明亮的程度，对于光源色，明度值与发光体的光亮度有关；对于物体色，此值和物体的透射比或反射比有关。通常取值范围为0%（黑）到100%（白）。"
   ]
  },
  {
   "cell_type": "code",
   "execution_count": 43,
   "metadata": {},
   "outputs": [
    {
     "name": "stdout",
     "output_type": "stream",
     "text": [
      "[[[112  24 234]\n",
      "  [112  24 234]\n",
      "  [112  24 234]\n",
      "  ...\n",
      "  [114  32 198]\n",
      "  [114  32 198]\n",
      "  [114  32 198]]\n",
      "\n",
      " [[112  24 234]\n",
      "  [112  24 234]\n",
      "  [112  24 234]\n",
      "  ...\n",
      "  [114  32 198]\n",
      "  [114  32 198]\n",
      "  [114  32 198]]\n",
      "\n",
      " [[112  24 234]\n",
      "  [112  24 234]\n",
      "  [112  24 234]\n",
      "  ...\n",
      "  [114  32 198]\n",
      "  [114  32 198]\n",
      "  [114  32 198]]\n",
      "\n",
      " ...\n",
      "\n",
      " [[109  30 205]\n",
      "  [109  30 205]\n",
      "  [109  30 205]\n",
      "  ...\n",
      "  [114  30 204]\n",
      "  [114  30 204]\n",
      "  [114  30 204]]\n",
      "\n",
      " [[109  30 205]\n",
      "  [109  30 205]\n",
      "  [109  30 205]\n",
      "  ...\n",
      "  [114  30 204]\n",
      "  [114  30 204]\n",
      "  [114  30 204]]\n",
      "\n",
      " [[109  30 205]\n",
      "  [109  30 205]\n",
      "  [109  30 205]\n",
      "  ...\n",
      "  [114  30 205]\n",
      "  [114  30 205]\n",
      "  [114  30 205]]]\n"
     ]
    }
   ],
   "source": [
    "hsv=cv2.cvtColor(img[550:750,400:800],cv2.COLOR_BGR2HSV)\n",
    "cv2.imshow(\"hsv\",hsv)\n",
    "cv2.waitKey()\n",
    "cv2.destroyAllWindows()\n",
    "print(hsv)"
   ]
  },
  {
   "cell_type": "markdown",
   "metadata": {},
   "source": [
    "# 利用纯红色的区域生成掩模以便从原始图像中抠图"
   ]
  },
  {
   "cell_type": "code",
   "execution_count": 64,
   "metadata": {},
   "outputs": [
    {
     "name": "stdout",
     "output_type": "stream",
     "text": [
      "[160 255 255]\n",
      "[  0  20 100]\n"
     ]
    }
   ],
   "source": [
    "# 设定红色的阈值\n",
    "hsvredhigh=np.array([160,255,255])\n",
    "hsvredlow=np.array([0,20,100])\n",
    "                   \n",
    "print(hsvredhigh)\n",
    "print(hsvredlow)\n",
    "                   \n",
    "# 根据阈值构建掩模\n",
    "mask=cv2.inRange(hsv,hsvredlow,hsvredhigh)\n",
    "\n",
    "cv2.imshow(\"mask\",mask)\n",
    "cv2.waitKey()\n",
    "cv2.destroyAllWindows()"
   ]
  },
  {
   "cell_type": "markdown",
   "metadata": {},
   "source": [
    "# 将掩模"
   ]
  }
 ],
 "metadata": {
  "kernelspec": {
   "display_name": "Python 3",
   "language": "python",
   "name": "python3"
  },
  "language_info": {
   "codemirror_mode": {
    "name": "ipython",
    "version": 3
   },
   "file_extension": ".py",
   "mimetype": "text/x-python",
   "name": "python",
   "nbconvert_exporter": "python",
   "pygments_lexer": "ipython3",
   "version": "3.6.7"
  }
 },
 "nbformat": 4,
 "nbformat_minor": 2
}
