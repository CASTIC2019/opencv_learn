{
 "cells": [
  {
   "cell_type": "markdown",
   "metadata": {},
   "source": [
    "# 用Python生成词云，先看词云长什么样"
   ]
  },
  {
   "cell_type": "markdown",
   "metadata": {},
   "source": [
    "![](\"lovewordcloud.png\")"
   ]
  },
  {
   "cell_type": "markdown",
   "metadata": {},
   "source": [
    "![](lovewordcloud.png)"
   ]
  },
  {
   "cell_type": "markdown",
   "metadata": {},
   "source": [
    "这个词云是从love.text中生成的，内容如下：\n",
    "\n",
    "Love  \n",
    "I love you not because of who you are,but because of who I am when I am with you.\n",
    "No man or woman is worth your tears,and the one who is ,won’t make you cry.\n",
    "The worst way to miss someone is to be sitting right beside them knowing you can’t have them.\n",
    "Never frown,even when you are sad,because you never know who is falling in love with your smile.\n",
    "To the world you may be one person,but to one person you may be the world.\n",
    "Don’t waste your time on a man/woman,who isn’t willing to waste their time on you.\n",
    "Just because someone doesn’t love you the way you want them to,doesn’t mean they don’t love you with all they have.\n",
    "Don’t try to hard,the best things come when you least expect them to."
   ]
  },
  {
   "cell_type": "markdown",
   "metadata": {},
   "source": [
    "# 先安装软件,打开cmd或Powershell"
   ]
  },
  {
   "cell_type": "markdown",
   "metadata": {},
   "source": [
    "pip install wordcloud  \n",
    "pip install Pillow"
   ]
  },
  {
   "cell_type": "markdown",
   "metadata": {},
   "source": []
  },
  {
   "cell_type": "markdown",
   "metadata": {},
   "source": [
    "# 把词云放在心型图案里并保存"
   ]
  },
  {
   "cell_type": "code",
   "execution_count": 16,
   "metadata": {},
   "outputs": [
    {
     "name": "stdout",
     "output_type": "stream",
     "text": [
      "Love\n",
      "I love you not because of who you are,but because of who I am when I am with you.\n",
      "No man or woman is worth your tears,and the one who is ,won’t make you cry.\n",
      "The worst way to miss someone is to be sitting right beside them knowing you can’t have them.\n",
      "Never frown,even when you are sad,because you never know who is falling in love with your smile.\n",
      "To the world you may be one person,but to one person you may be the world.\n",
      "Don’t waste your time on a man/woman,who isn’t willing to waste their time on you.\n",
      "Just because someone doesn’t love you the way you want them to,doesn’t mean they don’t love you with all they have.\n",
      "Don’t try to hard,the best things come when you least expect them to.\n"
     ]
    }
   ],
   "source": [
    "from wordcloud import WordCloud\n",
    "import PIL.Image as image\n",
    "\n",
    "fp=open(\"love.txt\")\n",
    "text = fp.read()\n",
    "print(text)\n",
    "wordcloud = WordCloud().generate(text)\n",
    "image_produce = wordcloud.to_image()\n",
    "image_produce.show()"
   ]
  },
  {
   "cell_type": "code",
   "execution_count": 15,
   "metadata": {},
   "outputs": [
    {
     "name": "stdout",
     "output_type": "stream",
     "text": [
      "Love\n",
      "I love you not because of who you are,but because of who I am when I am with you.\n",
      "No man or woman is worth your tears,and the one who is ,won’t make you cry.\n",
      "The worst way to miss someone is to be sitting right beside them knowing you can’t have them.\n",
      "Never frown,even when you are sad,because you never know who is falling in love with your smile.\n",
      "To the world you may be one person,but to one person you may be the world.\n",
      "Don’t waste your time on a man/woman,who isn’t willing to waste their time on you.\n",
      "Just because someone doesn’t love you the way you want them to,doesn’t mean they don’t love you with all they have.\n",
      "Don’t try to hard,the best things come when you least expect them to.\n"
     ]
    }
   ],
   "source": [
    "from wordcloud import WordCloud\n",
    "import PIL.Image as image\n",
    "import numpy as np\n",
    " \n",
    "with open(\"love.txt\") as fp:\n",
    "    text = fp.read()\n",
    "    print(text)\n",
    "    mask = np.array(image.open(\"love.png\"))\n",
    "    wordcloud = WordCloud(\n",
    "        mask=mask\n",
    "    ).generate(text)\n",
    "    image_produce = wordcloud.to_image()\n",
    "    image_produce.show()\n",
    "    image_produce.save(\"myclould.png\")"
   ]
  },
  {
   "cell_type": "markdown",
   "metadata": {},
   "source": [
    "# 试试中文版"
   ]
  },
  {
   "cell_type": "code",
   "execution_count": 19,
   "metadata": {},
   "outputs": [
    {
     "name": "stdout",
     "output_type": "stream",
     "text": [
      "我爱你不是因为你是谁，而是因为我和你在一起的时候是谁。\n",
      "\n",
      "\n",
      "没有人值得你流泪，值得让你这么做的人不会让你哭泣。\n",
      "\n",
      "\n",
      "错过别人的最糟糕的方式是坐在他们旁边，知道你不能拥有他们。\n",
      "\n",
      "\n",
      "纵然伤心，也不要皱眉，因为你不知道是谁爱上了你的笑容。\n",
      "\n",
      "\n",
      "对世界而言，你可能是一个人，但对某个人来说，你可能是整个世界。\n",
      "\n",
      "\n",
      "不要把你的时间浪费在一个不愿在你身上浪费时间的男人/女人身上。\n",
      "\n",
      "\n",
      "仅仅因为某人没有按你所希望的方式爱你，并不意味着他们没有全心全意地爱你。\n",
      "\n",
      "\n",
      "不要努力，最好的事情总会在你最不期待的时候出现。\n",
      "\n"
     ]
    }
   ],
   "source": [
    "from wordcloud import WordCloud\n",
    "import PIL.Image as image\n",
    "\n",
    "fp=open(\"lovecn.txt\")\n",
    "text = fp.read()\n",
    "print(text)\n",
    "wordcloud = WordCloud(font_path = \"C:\\Windows\\Fonts\\STXINGKA.TTF\").generate(text)\n",
    "image_produce = wordcloud.to_image()\n",
    "image_produce.show()"
   ]
  },
  {
   "cell_type": "markdown",
   "metadata": {},
   "source": [
    "# 中文版需要告诉哪些字的组合是一个词，采用jieba分词包"
   ]
  },
  {
   "cell_type": "markdown",
   "metadata": {},
   "source": [
    "# 安装jieba"
   ]
  },
  {
   "cell_type": "markdown",
   "metadata": {},
   "source": [
    "pip install jieba"
   ]
  },
  {
   "cell_type": "markdown",
   "metadata": {},
   "source": [
    "# 用jieba分词"
   ]
  },
  {
   "cell_type": "code",
   "execution_count": 26,
   "metadata": {},
   "outputs": [
    {
     "name": "stdout",
     "output_type": "stream",
     "text": [
      "我爱你不是因为你是谁，而是因为我和你在一起的时候是谁。\n",
      "\n",
      "\n",
      "没有人值得你流泪，值得让你这么做的人不会让你哭泣。\n",
      "\n",
      "\n",
      "错过别人的最糟糕的方式是坐在他们旁边，知道你不能拥有他们。\n",
      "\n",
      "\n",
      "纵然伤心，也不要皱眉，因为你不知道是谁爱上了你的笑容。\n",
      "\n",
      "\n",
      "对世界而言，你可能是一个人，但对某个人来说，你可能是整个世界。\n",
      "\n",
      "\n",
      "不要把你的时间浪费在一个不愿在你身上浪费时间的男人/女人身上。\n",
      "\n",
      "\n",
      "仅仅因为某人没有按你所希望的方式爱你，并不意味着他们没有全心全意地爱你。\n",
      "\n",
      "\n",
      "不要努力，最好的事情总会在你最不期待的时候出现。\n",
      "\n",
      "我爱你 不是 因为 你 是 谁 ， 而是 因为 我 和 你 在 一起 的 时候 是 谁 。 \n",
      " \n",
      " \n",
      " 没有 人 值得 你 流泪 ， 值得 让 你 这么 做 的 人 不会 让 你 哭泣 。 \n",
      " \n",
      " \n",
      " 错过 别人 的 最 糟糕 的 方式 是 坐在 他们 旁边 ， 知道 你 不能 拥有 他们 。 \n",
      " \n",
      " \n",
      " 纵然 伤心 ， 也 不要 皱眉 ， 因为 你 不 知道 是 谁 爱 上 了 你 的 笑容 。 \n",
      " \n",
      " \n",
      " 对 世界 而言 ， 你 可能 是 一个 人 ， 但 对 某个 人 来说 ， 你 可能 是 整个 世界 。 \n",
      " \n",
      " \n",
      " 不要 把 你 的 时间 浪费 在 一个 不愿 在 你 身上 浪费时间 的 男人 / 女人 身上 。 \n",
      " \n",
      " \n",
      " 仅仅 因为 某人 没有 按 你 所 希望 的 方式 爱 你 ， 并 不 意味着 他们 没有 全心全意 地爱 你 。 \n",
      " \n",
      " \n",
      " 不要 努力 ， 最好 的 事情 总会 在 你 最 不 期待 的 时候 出现 。 \n",
      "\n"
     ]
    }
   ],
   "source": [
    "from wordcloud import WordCloud\n",
    "import jieba\n",
    "\n",
    "fp=open(\"lovecn.txt\")\n",
    "text = fp.read()\n",
    "print(text)\n",
    "wordlist=jieba.cut(text)\n",
    "textcn=\" \".join(wordlist)\n",
    "print(textcn)"
   ]
  },
  {
   "cell_type": "markdown",
   "metadata": {},
   "source": [
    "# 生成词云"
   ]
  },
  {
   "cell_type": "code",
   "execution_count": 28,
   "metadata": {},
   "outputs": [],
   "source": [
    "wordcloud = WordCloud(font_path = \"C:\\Windows\\Fonts\\STXINGKA.TTF\").generate(textcn)\n",
    "image_produce = wordcloud.to_image()\n",
    "image_produce.show()"
   ]
  },
  {
   "cell_type": "markdown",
   "metadata": {},
   "source": [
    "# 自定义词"
   ]
  },
  {
   "cell_type": "code",
   "execution_count": 29,
   "metadata": {},
   "outputs": [
    {
     "data": {
      "text/plain": [
       "1"
      ]
     },
     "execution_count": 29,
     "metadata": {},
     "output_type": "execute_result"
    }
   ],
   "source": [
    "jieba.suggest_freq(('你的笑容'), True)"
   ]
  },
  {
   "cell_type": "markdown",
   "metadata": {},
   "source": [
    "# 重新分词"
   ]
  },
  {
   "cell_type": "code",
   "execution_count": 30,
   "metadata": {},
   "outputs": [
    {
     "name": "stdout",
     "output_type": "stream",
     "text": [
      "我爱你 不是 因为 你 是 谁 ， 而是 因为 我 和 你 在 一起 的 时候 是 谁 。 \n",
      " \n",
      " \n",
      " 没有 人 值得 你 流泪 ， 值得 让 你 这么 做 的 人 不会 让 你 哭泣 。 \n",
      " \n",
      " \n",
      " 错过 别人 的 最 糟糕 的 方式 是 坐在 他们 旁边 ， 知道 你 不能 拥有 他们 。 \n",
      " \n",
      " \n",
      " 纵然 伤心 ， 也 不要 皱眉 ， 因为 你 不 知道 是 谁 爱 上 了 你的笑容 。 \n",
      " \n",
      " \n",
      " 对 世界 而言 ， 你 可能 是 一个 人 ， 但 对 某个 人 来说 ， 你 可能 是 整个 世界 。 \n",
      " \n",
      " \n",
      " 不要 把 你 的 时间 浪费 在 一个 不愿 在 你 身上 浪费时间 的 男人 / 女人 身上 。 \n",
      " \n",
      " \n",
      " 仅仅 因为 某人 没有 按 你 所 希望 的 方式 爱 你 ， 并 不 意味着 他们 没有 全心全意 地爱 你 。 \n",
      " \n",
      " \n",
      " 不要 努力 ， 最好 的 事情 总会 在 你 最 不 期待 的 时候 出现 。 \n",
      "\n"
     ]
    }
   ],
   "source": [
    "wordlist=jieba.cut(text)\n",
    "textcn=\" \".join(wordlist)\n",
    "print(textcn)"
   ]
  },
  {
   "cell_type": "markdown",
   "metadata": {},
   "source": [
    "# 结束词，标点，用户字典等进一步处理待续"
   ]
  },
  {
   "cell_type": "markdown",
   "metadata": {},
   "source": [
    "https://blog.csdn.net/weixin_37986926/article/details/79004761"
   ]
  },
  {
   "cell_type": "code",
   "execution_count": null,
   "metadata": {},
   "outputs": [],
   "source": []
  }
 ],
 "metadata": {
  "kernelspec": {
   "display_name": "Python 3",
   "language": "python",
   "name": "python3"
  },
  "language_info": {
   "codemirror_mode": {
    "name": "ipython",
    "version": 3
   },
   "file_extension": ".py",
   "mimetype": "text/x-python",
   "name": "python",
   "nbconvert_exporter": "python",
   "pygments_lexer": "ipython3",
   "version": "3.6.7"
  }
 },
 "nbformat": 4,
 "nbformat_minor": 2
}
