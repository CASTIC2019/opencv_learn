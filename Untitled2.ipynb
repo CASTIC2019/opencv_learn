{
 "cells": [
  {
   "cell_type": "markdown",
   "metadata": {},
   "source": [
    "# 用Python对 码垛机器人运动学建模"
   ]
  },
  {
   "cell_type": "markdown",
   "metadata": {},
   "source": [
    "## 机器人照片如下"
   ]
  },
  {
   "cell_type": "markdown",
   "metadata": {},
   "source": [
    "![](marm.jpg)"
   ]
  },
  {
   "cell_type": "markdown",
   "metadata": {},
   "source": [
    "# 先用OpenCV在图上标出各个零部件的尺寸，以像素为单位"
   ]
  },
  {
   "cell_type": "markdown",
   "metadata": {},
   "source": [
    "## 为此，先学习一下如何画倾斜的矩形，利用OpenCV中的画轮廓"
   ]
  },
  {
   "cell_type": "code",
   "execution_count": 24,
   "metadata": {},
   "outputs": [],
   "source": [
    "import cv2\n",
    "import numpy as np\n",
    "\n",
    "img=cv2.imread(\"marm.jpg\")\n",
    "center=(100,100)\n",
    "width=200\n",
    "height=100\n",
    "angle=10\n",
    "rect=(center, (width, height), angle)\n",
    "box = cv2.boxPoints(rect).astype(np.int0)\n",
    "cv2.drawContours(img,[box],0,(255,0,0),3)\n",
    "cv2.imshow(\"img\",img)\n",
    "cv2.waitKey()\n",
    "cv2.destroyAllWindows()"
   ]
  },
  {
   "cell_type": "markdown",
   "metadata": {},
   "source": [
    "# 封装成函数"
   ]
  },
  {
   "cell_type": "code",
   "execution_count": 38,
   "metadata": {},
   "outputs": [],
   "source": [
    "import cv2\n",
    "import numpy as np\n",
    "\n",
    "img=cv2.imread(\"marm.jpg\")\n",
    "\n",
    "def drawlever(center,width,angle):\n",
    "    height=100\n",
    "    rect=(center, (width, height), angle)\n",
    "    box = cv2.boxPoints(rect).astype(np.int0)\n",
    "    cv2.drawContours(img,[box],0,(255,0,0),3)\n",
    "    cv2.imshow(\"marm\",img)\n",
    "\n",
    "drawlever((630,250),800,3)    \n",
    "cv2.waitKey()\n",
    "cv2.destroyAllWindows()"
   ]
  },
  {
   "cell_type": "markdown",
   "metadata": {},
   "source": [
    "# 封装成对象"
   ]
  },
  {
   "cell_type": "code",
   "execution_count": null,
   "metadata": {
    "scrolled": true
   },
   "outputs": [
    {
     "name": "stdout",
     "output_type": "stream",
     "text": [
      "(1080, 1440, 3)\n",
      "720 540\n",
      "(540, 720, 3)\n"
     ]
    }
   ],
   "source": [
    "import cv2\n",
    "import numpy as np\n",
    "\n",
    "img=cv2.imread(\"marm.jpg\")\n",
    "shape=img.shape\n",
    "print(shape)\n",
    "H=int(shape[0]/2)\n",
    "W=int(shape[1]/2)\n",
    "print(W,H)\n",
    "img=cv2.resize(img,(W,H))\n",
    "print(img.shape)\n",
    "\n",
    "class xkntry():\n",
    "    def __init__(self,xkninput):\n",
    "        print(\"haha\")\n",
    "        self.aaa=xkninput\n",
    "\n",
    "class mlever():\n",
    "    def __init__(self,center,width,angle):\n",
    "        self.center=center\n",
    "        self.width=width\n",
    "        self.angle=angle\n",
    "\n",
    "    def drawlever(self,center,width,angle):\n",
    "        height=100\n",
    "        rect=(center, (width, height), angle)\n",
    "        box = cv2.boxPoints(rect).astype(np.int0)\n",
    "        cv2.drawContours(img,[box],0,(255,0,0),3)\n",
    "\n",
    "drawlever((315,120),400,3)    \n",
    "drawlever((400,280),300,140)    \n",
    "\n",
    "cv2.imshow(\"marm\",img)\n",
    "cv2.waitKey()\n",
    "cv2.destroyAllWindows()"
   ]
  },
  {
   "cell_type": "code",
   "execution_count": null,
   "metadata": {},
   "outputs": [],
   "source": []
  }
 ],
 "metadata": {
  "kernelspec": {
   "display_name": "Python 3",
   "language": "python",
   "name": "python3"
  },
  "language_info": {
   "codemirror_mode": {
    "name": "ipython",
    "version": 3
   },
   "file_extension": ".py",
   "mimetype": "text/x-python",
   "name": "python",
   "nbconvert_exporter": "python",
   "pygments_lexer": "ipython3",
   "version": "3.6.7"
  }
 },
 "nbformat": 4,
 "nbformat_minor": 2
}
