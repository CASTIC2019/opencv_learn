{
 "cells": [
  {
   "cell_type": "markdown",
   "metadata": {},
   "source": [
    "# 学习使用PyAutoGUI和OpenCV完成游戏外挂 "
   ]
  },
  {
   "cell_type": "markdown",
   "metadata": {},
   "source": [
    "## 安装包\n",
    "pip install pygetwindow==0.0.1  \n",
    "pip install pyautogui\n",
    "\n",
    "## 中文文档\n",
    "https://hugit.app/posts/doc-pyautogui.html\n",
    "\n",
    "## 参考文档\n",
    "https://www.jianshu.com/p/d3c83d7cb730  \n",
    "https://www.pyimagesearch.com/2018/01/01/taking-screenshots-with-opencv-and-python/"
   ]
  },
  {
   "cell_type": "markdown",
   "metadata": {},
   "source": [
    "# 测试鼠标移动"
   ]
  },
  {
   "cell_type": "code",
   "execution_count": null,
   "metadata": {},
   "outputs": [],
   "source": [
    "import pyautogui as pg\n",
    "import time\n",
    "pg.moveTo(100, 100) # 移动鼠标\n",
    "time.sleep(5)\n",
    "W, H = pg.size()\n",
    "pg.moveTo(W/2, H/2)"
   ]
  },
  {
   "cell_type": "markdown",
   "metadata": {},
   "source": [
    "# 测试鼠标点击"
   ]
  },
  {
   "cell_type": "code",
   "execution_count": 2,
   "metadata": {},
   "outputs": [],
   "source": [
    "import pyautogui as pg\n",
    "import time\n",
    "pg.moveTo(580, 200) # 移动鼠标\n",
    "time.sleep(1)\n",
    "pg.click()\n",
    "time.sleep(1)\n",
    "pg.click()"
   ]
  },
  {
   "cell_type": "markdown",
   "metadata": {},
   "source": [
    "# 鼠标点击四个角"
   ]
  },
  {
   "cell_type": "code",
   "execution_count": 3,
   "metadata": {},
   "outputs": [],
   "source": [
    "import pyautogui as pg\n",
    "import time\n",
    "pg.moveTo(1000, 200)\n",
    "pg.click()\n",
    "time.sleep(1)\n",
    "pg.moveTo(1000, 300) \n",
    "pg.click()\n",
    "time.sleep(1)\n",
    "pg.moveTo(1100, 300) \n",
    "pg.click()\n",
    "time.sleep(1)\n",
    "pg.moveTo(1100, 200) \n",
    "pg.click()\n",
    "time.sleep(1)\n",
    "pg.moveTo(1000, 200) "
   ]
  },
  {
   "cell_type": "markdown",
   "metadata": {},
   "source": [
    "# 鼠标左键压下选中矩形区域"
   ]
  },
  {
   "cell_type": "code",
   "execution_count": 4,
   "metadata": {},
   "outputs": [],
   "source": [
    "import pyautogui as pg\n",
    "import time\n",
    "\n",
    "pg.moveTo(1000, 200)\n",
    "pg.mouseDown()\n",
    "time.sleep(2)\n",
    "pg.moveTo(1100, 300) \n",
    "time.sleep(2)\n",
    "pg.mouseUp()\n"
   ]
  },
  {
   "cell_type": "markdown",
   "metadata": {},
   "source": [
    "# 鼠标左键压下选中矩形区域更简单的写法"
   ]
  },
  {
   "cell_type": "code",
   "execution_count": 5,
   "metadata": {},
   "outputs": [],
   "source": [
    "import pyautogui as pg\n",
    "import time\n",
    "\n",
    "pg.mouseDown(x=1000,y=200)\n",
    "time.sleep(1)\n",
    "pg.moveTo(1100,300)\n",
    "time.sleep(1)\n",
    "pg.mouseUp()\n"
   ]
  },
  {
   "cell_type": "markdown",
   "metadata": {},
   "source": [
    "# 鼠标左键压下选中矩形区域,然后在附近点右键"
   ]
  },
  {
   "cell_type": "code",
   "execution_count": 7,
   "metadata": {},
   "outputs": [],
   "source": [
    "import pyautogui as pg\n",
    "import time\n",
    "\n",
    "pg.mouseDown(x=1000,y=200)\n",
    "time.sleep(1)\n",
    "pg.moveTo(1100,300)\n",
    "time.sleep(1)\n",
    "pg.mouseUp()\n",
    "pg.click(x=11000,y=200,button='right')"
   ]
  },
  {
   "cell_type": "markdown",
   "metadata": {},
   "source": [
    "# 鼠标左键压下选中矩形区域,然后在附近点右键,键入w字符"
   ]
  },
  {
   "cell_type": "code",
   "execution_count": 9,
   "metadata": {},
   "outputs": [],
   "source": [
    "import pyautogui as pg\n",
    "import time\n",
    "\n",
    "pg.mouseDown(x=1000,y=200)\n",
    "time.sleep(1)\n",
    "pg.moveTo(1100,300)\n",
    "time.sleep(1)\n",
    "pg.mouseUp()\n",
    "pg.click(x=11000,y=200,button='right')\n",
    "pg.typewrite(\"w\")"
   ]
  },
  {
   "cell_type": "markdown",
   "metadata": {},
   "source": [
    "# 屏幕拷贝"
   ]
  },
  {
   "cell_type": "code",
   "execution_count": 10,
   "metadata": {},
   "outputs": [],
   "source": [
    "import pyautogui as pg\n",
    "import numpy as np\n",
    "import time\n",
    "import cv2\n",
    "pic= pg.screenshot(\"my_screenshot.png\",region=(1000,200, 300, 300))\n",
    "image = cv2.cvtColor(np.array(pic), cv2.COLOR_RGB2BGR)\n",
    "cv2.imshow(\"screenshot\",image)\n",
    "cv2.waitKey(2000)\n",
    "cv2.destroyAllWindows()"
   ]
  },
  {
   "cell_type": "markdown",
   "metadata": {},
   "source": [
    "# 桌面画圈然后右键然后敲w然后屏幕拷贝然后用OpenCV显示"
   ]
  },
  {
   "cell_type": "code",
   "execution_count": 11,
   "metadata": {},
   "outputs": [],
   "source": [
    "import pyautogui as pg\n",
    "import numpy as np\n",
    "import time\n",
    "import cv2\n",
    "\n",
    "pg.mouseDown(x=1000,y=200)\n",
    "time.sleep(1)\n",
    "pg.moveTo(1100,300)\n",
    "time.sleep(1)\n",
    "pg.mouseUp()\n",
    "pg.click(x=1100,y=200,button='right')\n",
    "pg.typewrite(\"w\")\n",
    "pg.moveTo(1000,300)\n",
    "\n",
    "pic= pg.screenshot(\"my_screenshot.png\",region=(800,200, 300, 300))\n",
    "image = cv2.cvtColor(np.array(pic), cv2.COLOR_RGB2BGR)\n",
    "cv2.imshow(\"screenshot\",image)\n",
    "cv2.waitKey()\n",
    "cv2.destroyAllWindows()"
   ]
  },
  {
   "cell_type": "markdown",
   "metadata": {},
   "source": [
    "# 查找回收站在什么地方"
   ]
  },
  {
   "cell_type": "code",
   "execution_count": 19,
   "metadata": {},
   "outputs": [
    {
     "name": "stdout",
     "output_type": "stream",
     "text": [
      "Box(left=1281, top=497, width=61, height=77)\n",
      "1281\n",
      "497\n"
     ]
    }
   ],
   "source": [
    "box=pg.locateOnScreen('recyclebin.PNG')\n",
    "if box is None:\n",
    "    print(\"notfound\")\n",
    "else:\n",
    "    print(box)\n",
    "    print(box[0])\n",
    "    print(box[1])"
   ]
  },
  {
   "cell_type": "markdown",
   "metadata": {},
   "source": [
    "# 找到回收站后点右键倒垃圾"
   ]
  },
  {
   "cell_type": "code",
   "execution_count": 35,
   "metadata": {},
   "outputs": [
    {
     "name": "stdout",
     "output_type": "stream",
     "text": [
      "Box(left=1281, top=497, width=61, height=77)\n"
     ]
    }
   ],
   "source": [
    "while True:\n",
    "    box=pg.locateOnScreen('recyclebin.PNG')\n",
    "    if box is None:\n",
    "        print(\"searching\")\n",
    "    else:\n",
    "        print(box)\n",
    "        break\n",
    "pg.moveTo(box[0]+10,box[1]+10)\n",
    "pg.rightClick()\n",
    "pg.click(box[0]+10,box[1]+55)\n",
    "time.sleep(1)\n",
    "pg.press(\"Y\")"
   ]
  },
  {
   "cell_type": "code",
   "execution_count": null,
   "metadata": {},
   "outputs": [],
   "source": []
  },
  {
   "cell_type": "code",
   "execution_count": null,
   "metadata": {},
   "outputs": [],
   "source": []
  }
 ],
 "metadata": {
  "kernelspec": {
   "display_name": "Python 3",
   "language": "python",
   "name": "python3"
  },
  "language_info": {
   "codemirror_mode": {
    "name": "ipython",
    "version": 3
   },
   "file_extension": ".py",
   "mimetype": "text/x-python",
   "name": "python",
   "nbconvert_exporter": "python",
   "pygments_lexer": "ipython3",
   "version": "3.6.7"
  }
 },
 "nbformat": 4,
 "nbformat_minor": 2
}
